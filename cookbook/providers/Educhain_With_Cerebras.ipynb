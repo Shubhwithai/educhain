{
  "nbformat": 4,
  "nbformat_minor": 0,
  "metadata": {
    "colab": {
      "provenance": [],
      "toc_visible": true
    },
    "kernelspec": {
      "name": "python3",
      "display_name": "Python 3"
    },
    "language_info": {
      "name": "python"
    }
  },
  "cells": [
    {
      "cell_type": "markdown",
      "source": [
        "<img src=\"https://github.com/Shubhwithai/GRE_Geometry_quiz/blob/main/Group%2042.png?raw=true\" width=\"\" height=\"50\">\n",
        "\n",
        "Educhain is a powerful Python package that leverages Generative AI to create engaging and personalized educational content. From generating multiple-choice questions to crafting comprehensive lesson plans, Educhain makes it easy to apply AI in various educational scenarios."
      ],
      "metadata": {
        "id": "zl10QbujfeEK"
      }
    },
    {
      "cell_type": "markdown",
      "source": [
        "<img src=\"https://github.com/satvik314/educhain/blob/main/images/educhain_diagram.png?raw=true\" width=\"800\" height=\"500\">\n",
        "\n",
        "\n",
        "\n",
        "[![Open In Colab](https://colab.research.google.com/assets/colab-badge.svg)](https://colab.research.google.com/drive/1wjKKz_N8yYkQmIz9APeV26PqJYrzn8RA?usp=sharing)\n"
      ],
      "metadata": {
        "id": "OZLYv49lfk2R"
      }
    },
    {
      "cell_type": "markdown",
      "source": [
        "###**Installations**"
      ],
      "metadata": {
        "id": "a9Y-zUOTXG9g"
      }
    },
    {
      "cell_type": "code",
      "source": [
        "!pip install langchain langchain-cerebras educhain"
      ],
      "metadata": {
        "colab": {
          "base_uri": "https://localhost:8080/"
        },
        "collapsed": true,
        "id": "6oaQBqkhfd2q",
        "outputId": "357d76dd-7478-4780-a58d-67ff90952aa2"
      },
      "execution_count": 20,
      "outputs": [
        {
          "output_type": "stream",
          "name": "stdout",
          "text": [
            "Requirement already satisfied: langchain in /usr/local/lib/python3.11/dist-packages (0.3.27)\n",
            "Collecting langchain-cerebras\n",
            "  Downloading langchain_cerebras-0.5.0-py3-none-any.whl.metadata (4.9 kB)\n",
            "Requirement already satisfied: educhain in /usr/local/lib/python3.11/dist-packages (0.3.10)\n",
            "Requirement already satisfied: langchain-core<1.0.0,>=0.3.72 in /usr/local/lib/python3.11/dist-packages (from langchain) (0.3.74)\n",
            "Requirement already satisfied: langchain-text-splitters<1.0.0,>=0.3.9 in /usr/local/lib/python3.11/dist-packages (from langchain) (0.3.9)\n",
            "Requirement already satisfied: langsmith>=0.1.17 in /usr/local/lib/python3.11/dist-packages (from langchain) (0.4.12)\n",
            "Requirement already satisfied: pydantic<3.0.0,>=2.7.4 in /usr/local/lib/python3.11/dist-packages (from langchain) (2.11.7)\n",
            "Requirement already satisfied: SQLAlchemy<3,>=1.4 in /usr/local/lib/python3.11/dist-packages (from langchain) (2.0.42)\n",
            "Requirement already satisfied: requests<3,>=2 in /usr/local/lib/python3.11/dist-packages (from langchain) (2.32.3)\n",
            "Requirement already satisfied: PyYAML>=5.3 in /usr/local/lib/python3.11/dist-packages (from langchain) (6.0.2)\n",
            "Requirement already satisfied: langchain-openai<0.4.0,>=0.3.0 in /usr/local/lib/python3.11/dist-packages (from langchain-cerebras) (0.3.29)\n",
            "Requirement already satisfied: langchain-community in /usr/local/lib/python3.11/dist-packages (from educhain) (0.3.27)\n",
            "Requirement already satisfied: openai in /usr/local/lib/python3.11/dist-packages (from educhain) (1.99.1)\n",
            "Requirement already satisfied: python-dotenv in /usr/local/lib/python3.11/dist-packages (from educhain) (1.1.1)\n",
            "Requirement already satisfied: reportlab in /usr/local/lib/python3.11/dist-packages (from educhain) (4.4.3)\n",
            "Requirement already satisfied: PyPDF2 in /usr/local/lib/python3.11/dist-packages (from educhain) (3.0.1)\n",
            "Requirement already satisfied: beautifulsoup4 in /usr/local/lib/python3.11/dist-packages (from educhain) (4.13.4)\n",
            "Requirement already satisfied: youtube-transcript-api in /usr/local/lib/python3.11/dist-packages (from educhain) (1.2.2)\n",
            "Requirement already satisfied: chromadb in /usr/local/lib/python3.11/dist-packages (from educhain) (1.0.16)\n",
            "Requirement already satisfied: protobuf<5 in /usr/local/lib/python3.11/dist-packages (from educhain) (4.25.8)\n",
            "Requirement already satisfied: pillow in /usr/local/lib/python3.11/dist-packages (from educhain) (11.3.0)\n",
            "Requirement already satisfied: dataframe-image in /usr/local/lib/python3.11/dist-packages (from educhain) (0.2.7)\n",
            "Requirement already satisfied: langchain-google-genai in /usr/local/lib/python3.11/dist-packages (from educhain) (2.1.9)\n",
            "Requirement already satisfied: pandas in /usr/local/lib/python3.11/dist-packages (from educhain) (2.2.2)\n",
            "Requirement already satisfied: ipython in /usr/local/lib/python3.11/dist-packages (from educhain) (7.34.0)\n",
            "Requirement already satisfied: matplotlib in /usr/local/lib/python3.11/dist-packages (from educhain) (3.10.0)\n",
            "Requirement already satisfied: numpy in /usr/local/lib/python3.11/dist-packages (from educhain) (2.0.2)\n",
            "Requirement already satisfied: tenacity!=8.4.0,<10.0.0,>=8.1.0 in /usr/local/lib/python3.11/dist-packages (from langchain-core<1.0.0,>=0.3.72->langchain) (8.5.0)\n",
            "Requirement already satisfied: jsonpatch<2.0,>=1.33 in /usr/local/lib/python3.11/dist-packages (from langchain-core<1.0.0,>=0.3.72->langchain) (1.33)\n",
            "Requirement already satisfied: typing-extensions>=4.7 in /usr/local/lib/python3.11/dist-packages (from langchain-core<1.0.0,>=0.3.72->langchain) (4.14.1)\n",
            "Requirement already satisfied: packaging>=23.2 in /usr/local/lib/python3.11/dist-packages (from langchain-core<1.0.0,>=0.3.72->langchain) (25.0)\n",
            "Requirement already satisfied: tiktoken<1,>=0.7 in /usr/local/lib/python3.11/dist-packages (from langchain-openai<0.4.0,>=0.3.0->langchain-cerebras) (0.10.0)\n",
            "Requirement already satisfied: httpx<1,>=0.23.0 in /usr/local/lib/python3.11/dist-packages (from langsmith>=0.1.17->langchain) (0.28.1)\n",
            "Requirement already satisfied: orjson>=3.9.14 in /usr/local/lib/python3.11/dist-packages (from langsmith>=0.1.17->langchain) (3.11.1)\n",
            "Requirement already satisfied: requests-toolbelt>=1.0.0 in /usr/local/lib/python3.11/dist-packages (from langsmith>=0.1.17->langchain) (1.0.0)\n",
            "Requirement already satisfied: zstandard>=0.23.0 in /usr/local/lib/python3.11/dist-packages (from langsmith>=0.1.17->langchain) (0.23.0)\n",
            "Requirement already satisfied: anyio<5,>=3.5.0 in /usr/local/lib/python3.11/dist-packages (from openai->educhain) (4.10.0)\n",
            "Requirement already satisfied: distro<2,>=1.7.0 in /usr/local/lib/python3.11/dist-packages (from openai->educhain) (1.9.0)\n",
            "Requirement already satisfied: jiter<1,>=0.4.0 in /usr/local/lib/python3.11/dist-packages (from openai->educhain) (0.10.0)\n",
            "Requirement already satisfied: sniffio in /usr/local/lib/python3.11/dist-packages (from openai->educhain) (1.3.1)\n",
            "Requirement already satisfied: tqdm>4 in /usr/local/lib/python3.11/dist-packages (from openai->educhain) (4.67.1)\n",
            "Requirement already satisfied: annotated-types>=0.6.0 in /usr/local/lib/python3.11/dist-packages (from pydantic<3.0.0,>=2.7.4->langchain) (0.7.0)\n",
            "Requirement already satisfied: pydantic-core==2.33.2 in /usr/local/lib/python3.11/dist-packages (from pydantic<3.0.0,>=2.7.4->langchain) (2.33.2)\n",
            "Requirement already satisfied: typing-inspection>=0.4.0 in /usr/local/lib/python3.11/dist-packages (from pydantic<3.0.0,>=2.7.4->langchain) (0.4.1)\n",
            "Requirement already satisfied: charset-normalizer<4,>=2 in /usr/local/lib/python3.11/dist-packages (from requests<3,>=2->langchain) (3.4.2)\n",
            "Requirement already satisfied: idna<4,>=2.5 in /usr/local/lib/python3.11/dist-packages (from requests<3,>=2->langchain) (3.10)\n",
            "Requirement already satisfied: urllib3<3,>=1.21.1 in /usr/local/lib/python3.11/dist-packages (from requests<3,>=2->langchain) (2.5.0)\n",
            "Requirement already satisfied: certifi>=2017.4.17 in /usr/local/lib/python3.11/dist-packages (from requests<3,>=2->langchain) (2025.8.3)\n",
            "Requirement already satisfied: greenlet>=1 in /usr/local/lib/python3.11/dist-packages (from SQLAlchemy<3,>=1.4->langchain) (3.2.3)\n",
            "Requirement already satisfied: soupsieve>1.2 in /usr/local/lib/python3.11/dist-packages (from beautifulsoup4->educhain) (2.7)\n",
            "Requirement already satisfied: build>=1.0.3 in /usr/local/lib/python3.11/dist-packages (from chromadb->educhain) (1.3.0)\n",
            "Requirement already satisfied: pybase64>=1.4.1 in /usr/local/lib/python3.11/dist-packages (from chromadb->educhain) (1.4.2)\n",
            "Requirement already satisfied: uvicorn>=0.18.3 in /usr/local/lib/python3.11/dist-packages (from uvicorn[standard]>=0.18.3->chromadb->educhain) (0.35.0)\n",
            "Requirement already satisfied: posthog<6.0.0,>=2.4.0 in /usr/local/lib/python3.11/dist-packages (from chromadb->educhain) (5.4.0)\n",
            "Requirement already satisfied: onnxruntime>=1.14.1 in /usr/local/lib/python3.11/dist-packages (from chromadb->educhain) (1.22.1)\n",
            "Requirement already satisfied: opentelemetry-api>=1.2.0 in /usr/local/lib/python3.11/dist-packages (from chromadb->educhain) (1.27.0)\n",
            "Requirement already satisfied: opentelemetry-exporter-otlp-proto-grpc>=1.2.0 in /usr/local/lib/python3.11/dist-packages (from chromadb->educhain) (1.27.0)\n",
            "Requirement already satisfied: opentelemetry-sdk>=1.2.0 in /usr/local/lib/python3.11/dist-packages (from chromadb->educhain) (1.27.0)\n",
            "Requirement already satisfied: tokenizers>=0.13.2 in /usr/local/lib/python3.11/dist-packages (from chromadb->educhain) (0.21.4)\n",
            "Requirement already satisfied: pypika>=0.48.9 in /usr/local/lib/python3.11/dist-packages (from chromadb->educhain) (0.48.9)\n",
            "Requirement already satisfied: overrides>=7.3.1 in /usr/local/lib/python3.11/dist-packages (from chromadb->educhain) (7.7.0)\n",
            "Requirement already satisfied: importlib-resources in /usr/local/lib/python3.11/dist-packages (from chromadb->educhain) (6.5.2)\n",
            "Requirement already satisfied: grpcio>=1.58.0 in /usr/local/lib/python3.11/dist-packages (from chromadb->educhain) (1.74.0)\n",
            "Requirement already satisfied: bcrypt>=4.0.1 in /usr/local/lib/python3.11/dist-packages (from chromadb->educhain) (4.3.0)\n",
            "Requirement already satisfied: typer>=0.9.0 in /usr/local/lib/python3.11/dist-packages (from chromadb->educhain) (0.16.0)\n",
            "Requirement already satisfied: kubernetes>=28.1.0 in /usr/local/lib/python3.11/dist-packages (from chromadb->educhain) (33.1.0)\n",
            "Requirement already satisfied: mmh3>=4.0.1 in /usr/local/lib/python3.11/dist-packages (from chromadb->educhain) (5.2.0)\n",
            "Requirement already satisfied: rich>=10.11.0 in /usr/local/lib/python3.11/dist-packages (from chromadb->educhain) (13.9.4)\n",
            "Requirement already satisfied: jsonschema>=4.19.0 in /usr/local/lib/python3.11/dist-packages (from chromadb->educhain) (4.25.0)\n",
            "Requirement already satisfied: nbconvert>=5 in /usr/local/lib/python3.11/dist-packages (from dataframe-image->educhain) (7.16.6)\n",
            "Requirement already satisfied: aiohttp>=3.10.2 in /usr/local/lib/python3.11/dist-packages (from dataframe-image->educhain) (3.12.15)\n",
            "Requirement already satisfied: mistune in /usr/local/lib/python3.11/dist-packages (from dataframe-image->educhain) (3.1.3)\n",
            "Requirement already satisfied: lxml in /usr/local/lib/python3.11/dist-packages (from dataframe-image->educhain) (5.4.0)\n",
            "Requirement already satisfied: cssutils in /usr/local/lib/python3.11/dist-packages (from dataframe-image->educhain) (2.11.1)\n",
            "Requirement already satisfied: playwright in /usr/local/lib/python3.11/dist-packages (from dataframe-image->educhain) (1.54.0)\n",
            "Requirement already satisfied: cssselect in /usr/local/lib/python3.11/dist-packages (from dataframe-image->educhain) (1.3.0)\n",
            "Requirement already satisfied: python-dateutil>=2.8.2 in /usr/local/lib/python3.11/dist-packages (from pandas->educhain) (2.9.0.post0)\n",
            "Requirement already satisfied: pytz>=2020.1 in /usr/local/lib/python3.11/dist-packages (from pandas->educhain) (2025.2)\n",
            "Requirement already satisfied: tzdata>=2022.7 in /usr/local/lib/python3.11/dist-packages (from pandas->educhain) (2025.2)\n",
            "Requirement already satisfied: setuptools>=18.5 in /usr/local/lib/python3.11/dist-packages (from ipython->educhain) (75.2.0)\n",
            "Requirement already satisfied: jedi>=0.16 in /usr/local/lib/python3.11/dist-packages (from ipython->educhain) (0.19.2)\n",
            "Requirement already satisfied: decorator in /usr/local/lib/python3.11/dist-packages (from ipython->educhain) (4.4.2)\n",
            "Requirement already satisfied: pickleshare in /usr/local/lib/python3.11/dist-packages (from ipython->educhain) (0.7.5)\n",
            "Requirement already satisfied: traitlets>=4.2 in /usr/local/lib/python3.11/dist-packages (from ipython->educhain) (5.7.1)\n",
            "Requirement already satisfied: prompt-toolkit!=3.0.0,!=3.0.1,<3.1.0,>=2.0.0 in /usr/local/lib/python3.11/dist-packages (from ipython->educhain) (3.0.51)\n",
            "Requirement already satisfied: pygments in /usr/local/lib/python3.11/dist-packages (from ipython->educhain) (2.19.2)\n",
            "Requirement already satisfied: backcall in /usr/local/lib/python3.11/dist-packages (from ipython->educhain) (0.2.0)\n",
            "Requirement already satisfied: matplotlib-inline in /usr/local/lib/python3.11/dist-packages (from ipython->educhain) (0.1.7)\n",
            "Requirement already satisfied: pexpect>4.3 in /usr/local/lib/python3.11/dist-packages (from ipython->educhain) (4.9.0)\n",
            "Requirement already satisfied: dataclasses-json<0.7,>=0.5.7 in /usr/local/lib/python3.11/dist-packages (from langchain-community->educhain) (0.6.7)\n",
            "Requirement already satisfied: pydantic-settings<3.0.0,>=2.4.0 in /usr/local/lib/python3.11/dist-packages (from langchain-community->educhain) (2.10.1)\n",
            "Requirement already satisfied: httpx-sse<1.0.0,>=0.4.0 in /usr/local/lib/python3.11/dist-packages (from langchain-community->educhain) (0.4.1)\n",
            "Requirement already satisfied: filetype<2.0.0,>=1.2.0 in /usr/local/lib/python3.11/dist-packages (from langchain-google-genai->educhain) (1.2.0)\n",
            "Requirement already satisfied: google-ai-generativelanguage<0.7.0,>=0.6.18 in /usr/local/lib/python3.11/dist-packages (from langchain-google-genai->educhain) (0.6.18)\n",
            "Requirement already satisfied: contourpy>=1.0.1 in /usr/local/lib/python3.11/dist-packages (from matplotlib->educhain) (1.3.3)\n",
            "Requirement already satisfied: cycler>=0.10 in /usr/local/lib/python3.11/dist-packages (from matplotlib->educhain) (0.12.1)\n",
            "Requirement already satisfied: fonttools>=4.22.0 in /usr/local/lib/python3.11/dist-packages (from matplotlib->educhain) (4.59.0)\n",
            "Requirement already satisfied: kiwisolver>=1.3.1 in /usr/local/lib/python3.11/dist-packages (from matplotlib->educhain) (1.4.8)\n",
            "Requirement already satisfied: pyparsing>=2.3.1 in /usr/local/lib/python3.11/dist-packages (from matplotlib->educhain) (3.2.3)\n",
            "Requirement already satisfied: defusedxml<0.8.0,>=0.7.1 in /usr/local/lib/python3.11/dist-packages (from youtube-transcript-api->educhain) (0.7.1)\n",
            "Requirement already satisfied: aiohappyeyeballs>=2.5.0 in /usr/local/lib/python3.11/dist-packages (from aiohttp>=3.10.2->dataframe-image->educhain) (2.6.1)\n",
            "Requirement already satisfied: aiosignal>=1.4.0 in /usr/local/lib/python3.11/dist-packages (from aiohttp>=3.10.2->dataframe-image->educhain) (1.4.0)\n",
            "Requirement already satisfied: attrs>=17.3.0 in /usr/local/lib/python3.11/dist-packages (from aiohttp>=3.10.2->dataframe-image->educhain) (25.3.0)\n",
            "Requirement already satisfied: frozenlist>=1.1.1 in /usr/local/lib/python3.11/dist-packages (from aiohttp>=3.10.2->dataframe-image->educhain) (1.7.0)\n",
            "Requirement already satisfied: multidict<7.0,>=4.5 in /usr/local/lib/python3.11/dist-packages (from aiohttp>=3.10.2->dataframe-image->educhain) (6.6.3)\n",
            "Requirement already satisfied: propcache>=0.2.0 in /usr/local/lib/python3.11/dist-packages (from aiohttp>=3.10.2->dataframe-image->educhain) (0.3.2)\n",
            "Requirement already satisfied: yarl<2.0,>=1.17.0 in /usr/local/lib/python3.11/dist-packages (from aiohttp>=3.10.2->dataframe-image->educhain) (1.20.1)\n",
            "Requirement already satisfied: pyproject_hooks in /usr/local/lib/python3.11/dist-packages (from build>=1.0.3->chromadb->educhain) (1.2.0)\n",
            "Requirement already satisfied: marshmallow<4.0.0,>=3.18.0 in /usr/local/lib/python3.11/dist-packages (from dataclasses-json<0.7,>=0.5.7->langchain-community->educhain) (3.26.1)\n",
            "Requirement already satisfied: typing-inspect<1,>=0.4.0 in /usr/local/lib/python3.11/dist-packages (from dataclasses-json<0.7,>=0.5.7->langchain-community->educhain) (0.9.0)\n",
            "Requirement already satisfied: google-api-core!=2.0.*,!=2.1.*,!=2.10.*,!=2.2.*,!=2.3.*,!=2.4.*,!=2.5.*,!=2.6.*,!=2.7.*,!=2.8.*,!=2.9.*,<3.0.0,>=1.34.1 in /usr/local/lib/python3.11/dist-packages (from google-api-core[grpc]!=2.0.*,!=2.1.*,!=2.10.*,!=2.2.*,!=2.3.*,!=2.4.*,!=2.5.*,!=2.6.*,!=2.7.*,!=2.8.*,!=2.9.*,<3.0.0,>=1.34.1->google-ai-generativelanguage<0.7.0,>=0.6.18->langchain-google-genai->educhain) (2.25.1)\n",
            "Requirement already satisfied: google-auth!=2.24.0,!=2.25.0,<3.0.0,>=2.14.1 in /usr/local/lib/python3.11/dist-packages (from google-ai-generativelanguage<0.7.0,>=0.6.18->langchain-google-genai->educhain) (2.38.0)\n",
            "Requirement already satisfied: proto-plus<2.0.0,>=1.22.3 in /usr/local/lib/python3.11/dist-packages (from google-ai-generativelanguage<0.7.0,>=0.6.18->langchain-google-genai->educhain) (1.26.1)\n",
            "Requirement already satisfied: httpcore==1.* in /usr/local/lib/python3.11/dist-packages (from httpx<1,>=0.23.0->langsmith>=0.1.17->langchain) (1.0.9)\n",
            "Requirement already satisfied: h11>=0.16 in /usr/local/lib/python3.11/dist-packages (from httpcore==1.*->httpx<1,>=0.23.0->langsmith>=0.1.17->langchain) (0.16.0)\n",
            "Requirement already satisfied: parso<0.9.0,>=0.8.4 in /usr/local/lib/python3.11/dist-packages (from jedi>=0.16->ipython->educhain) (0.8.4)\n",
            "Requirement already satisfied: jsonpointer>=1.9 in /usr/local/lib/python3.11/dist-packages (from jsonpatch<2.0,>=1.33->langchain-core<1.0.0,>=0.3.72->langchain) (3.0.0)\n",
            "Requirement already satisfied: jsonschema-specifications>=2023.03.6 in /usr/local/lib/python3.11/dist-packages (from jsonschema>=4.19.0->chromadb->educhain) (2025.4.1)\n",
            "Requirement already satisfied: referencing>=0.28.4 in /usr/local/lib/python3.11/dist-packages (from jsonschema>=4.19.0->chromadb->educhain) (0.36.2)\n",
            "Requirement already satisfied: rpds-py>=0.7.1 in /usr/local/lib/python3.11/dist-packages (from jsonschema>=4.19.0->chromadb->educhain) (0.26.0)\n",
            "Requirement already satisfied: six>=1.9.0 in /usr/local/lib/python3.11/dist-packages (from kubernetes>=28.1.0->chromadb->educhain) (1.17.0)\n",
            "Requirement already satisfied: websocket-client!=0.40.0,!=0.41.*,!=0.42.*,>=0.32.0 in /usr/local/lib/python3.11/dist-packages (from kubernetes>=28.1.0->chromadb->educhain) (1.8.0)\n",
            "Requirement already satisfied: requests-oauthlib in /usr/local/lib/python3.11/dist-packages (from kubernetes>=28.1.0->chromadb->educhain) (2.0.0)\n",
            "Requirement already satisfied: oauthlib>=3.2.2 in /usr/local/lib/python3.11/dist-packages (from kubernetes>=28.1.0->chromadb->educhain) (3.3.1)\n",
            "Requirement already satisfied: durationpy>=0.7 in /usr/local/lib/python3.11/dist-packages (from kubernetes>=28.1.0->chromadb->educhain) (0.10)\n",
            "Requirement already satisfied: bleach!=5.0.0 in /usr/local/lib/python3.11/dist-packages (from bleach[css]!=5.0.0->nbconvert>=5->dataframe-image->educhain) (6.2.0)\n",
            "Requirement already satisfied: jinja2>=3.0 in /usr/local/lib/python3.11/dist-packages (from nbconvert>=5->dataframe-image->educhain) (3.1.6)\n",
            "Requirement already satisfied: jupyter-core>=4.7 in /usr/local/lib/python3.11/dist-packages (from nbconvert>=5->dataframe-image->educhain) (5.8.1)\n",
            "Requirement already satisfied: jupyterlab-pygments in /usr/local/lib/python3.11/dist-packages (from nbconvert>=5->dataframe-image->educhain) (0.3.0)\n",
            "Requirement already satisfied: markupsafe>=2.0 in /usr/local/lib/python3.11/dist-packages (from nbconvert>=5->dataframe-image->educhain) (3.0.2)\n",
            "Requirement already satisfied: nbclient>=0.5.0 in /usr/local/lib/python3.11/dist-packages (from nbconvert>=5->dataframe-image->educhain) (0.10.2)\n",
            "Requirement already satisfied: nbformat>=5.7 in /usr/local/lib/python3.11/dist-packages (from nbconvert>=5->dataframe-image->educhain) (5.10.4)\n",
            "Requirement already satisfied: pandocfilters>=1.4.1 in /usr/local/lib/python3.11/dist-packages (from nbconvert>=5->dataframe-image->educhain) (1.5.1)\n",
            "Requirement already satisfied: coloredlogs in /usr/local/lib/python3.11/dist-packages (from onnxruntime>=1.14.1->chromadb->educhain) (15.0.1)\n",
            "Requirement already satisfied: flatbuffers in /usr/local/lib/python3.11/dist-packages (from onnxruntime>=1.14.1->chromadb->educhain) (25.2.10)\n",
            "Requirement already satisfied: sympy in /usr/local/lib/python3.11/dist-packages (from onnxruntime>=1.14.1->chromadb->educhain) (1.13.1)\n",
            "Requirement already satisfied: deprecated>=1.2.6 in /usr/local/lib/python3.11/dist-packages (from opentelemetry-api>=1.2.0->chromadb->educhain) (1.2.18)\n",
            "Requirement already satisfied: importlib-metadata<=8.4.0,>=6.0 in /usr/local/lib/python3.11/dist-packages (from opentelemetry-api>=1.2.0->chromadb->educhain) (8.4.0)\n",
            "Requirement already satisfied: googleapis-common-protos~=1.52 in /usr/local/lib/python3.11/dist-packages (from opentelemetry-exporter-otlp-proto-grpc>=1.2.0->chromadb->educhain) (1.70.0)\n",
            "Requirement already satisfied: opentelemetry-exporter-otlp-proto-common==1.27.0 in /usr/local/lib/python3.11/dist-packages (from opentelemetry-exporter-otlp-proto-grpc>=1.2.0->chromadb->educhain) (1.27.0)\n",
            "Requirement already satisfied: opentelemetry-proto==1.27.0 in /usr/local/lib/python3.11/dist-packages (from opentelemetry-exporter-otlp-proto-grpc>=1.2.0->chromadb->educhain) (1.27.0)\n",
            "Requirement already satisfied: opentelemetry-semantic-conventions==0.48b0 in /usr/local/lib/python3.11/dist-packages (from opentelemetry-sdk>=1.2.0->chromadb->educhain) (0.48b0)\n",
            "Requirement already satisfied: ptyprocess>=0.5 in /usr/local/lib/python3.11/dist-packages (from pexpect>4.3->ipython->educhain) (0.7.0)\n",
            "Requirement already satisfied: backoff>=1.10.0 in /usr/local/lib/python3.11/dist-packages (from posthog<6.0.0,>=2.4.0->chromadb->educhain) (2.2.1)\n",
            "Requirement already satisfied: wcwidth in /usr/local/lib/python3.11/dist-packages (from prompt-toolkit!=3.0.0,!=3.0.1,<3.1.0,>=2.0.0->ipython->educhain) (0.2.13)\n",
            "Requirement already satisfied: markdown-it-py>=2.2.0 in /usr/local/lib/python3.11/dist-packages (from rich>=10.11.0->chromadb->educhain) (3.0.0)\n",
            "Requirement already satisfied: regex>=2022.1.18 in /usr/local/lib/python3.11/dist-packages (from tiktoken<1,>=0.7->langchain-openai<0.4.0,>=0.3.0->langchain-cerebras) (2024.11.6)\n",
            "Requirement already satisfied: huggingface-hub<1.0,>=0.16.4 in /usr/local/lib/python3.11/dist-packages (from tokenizers>=0.13.2->chromadb->educhain) (0.34.3)\n",
            "Requirement already satisfied: click>=8.0.0 in /usr/local/lib/python3.11/dist-packages (from typer>=0.9.0->chromadb->educhain) (8.2.1)\n",
            "Requirement already satisfied: shellingham>=1.3.0 in /usr/local/lib/python3.11/dist-packages (from typer>=0.9.0->chromadb->educhain) (1.5.4)\n",
            "Requirement already satisfied: httptools>=0.6.3 in /usr/local/lib/python3.11/dist-packages (from uvicorn[standard]>=0.18.3->chromadb->educhain) (0.6.4)\n",
            "Requirement already satisfied: uvloop>=0.15.1 in /usr/local/lib/python3.11/dist-packages (from uvicorn[standard]>=0.18.3->chromadb->educhain) (0.21.0)\n",
            "Requirement already satisfied: watchfiles>=0.13 in /usr/local/lib/python3.11/dist-packages (from uvicorn[standard]>=0.18.3->chromadb->educhain) (1.1.0)\n",
            "Requirement already satisfied: websockets>=10.4 in /usr/local/lib/python3.11/dist-packages (from uvicorn[standard]>=0.18.3->chromadb->educhain) (15.0.1)\n",
            "Requirement already satisfied: more-itertools in /usr/local/lib/python3.11/dist-packages (from cssutils->dataframe-image->educhain) (10.7.0)\n",
            "Requirement already satisfied: pyee<14,>=13 in /usr/local/lib/python3.11/dist-packages (from playwright->dataframe-image->educhain) (13.0.0)\n",
            "Requirement already satisfied: webencodings in /usr/local/lib/python3.11/dist-packages (from bleach!=5.0.0->bleach[css]!=5.0.0->nbconvert>=5->dataframe-image->educhain) (0.5.1)\n",
            "Requirement already satisfied: tinycss2<1.5,>=1.1.0 in /usr/local/lib/python3.11/dist-packages (from bleach[css]!=5.0.0->nbconvert>=5->dataframe-image->educhain) (1.4.0)\n",
            "Requirement already satisfied: wrapt<2,>=1.10 in /usr/local/lib/python3.11/dist-packages (from deprecated>=1.2.6->opentelemetry-api>=1.2.0->chromadb->educhain) (1.17.2)\n",
            "Requirement already satisfied: grpcio-status<2.0.0,>=1.33.2 in /usr/local/lib/python3.11/dist-packages (from google-api-core[grpc]!=2.0.*,!=2.1.*,!=2.10.*,!=2.2.*,!=2.3.*,!=2.4.*,!=2.5.*,!=2.6.*,!=2.7.*,!=2.8.*,!=2.9.*,<3.0.0,>=1.34.1->google-ai-generativelanguage<0.7.0,>=0.6.18->langchain-google-genai->educhain) (1.62.3)\n",
            "Requirement already satisfied: cachetools<6.0,>=2.0.0 in /usr/local/lib/python3.11/dist-packages (from google-auth!=2.24.0,!=2.25.0,<3.0.0,>=2.14.1->google-ai-generativelanguage<0.7.0,>=0.6.18->langchain-google-genai->educhain) (5.5.2)\n",
            "Requirement already satisfied: pyasn1-modules>=0.2.1 in /usr/local/lib/python3.11/dist-packages (from google-auth!=2.24.0,!=2.25.0,<3.0.0,>=2.14.1->google-ai-generativelanguage<0.7.0,>=0.6.18->langchain-google-genai->educhain) (0.4.2)\n",
            "Requirement already satisfied: rsa<5,>=3.1.4 in /usr/local/lib/python3.11/dist-packages (from google-auth!=2.24.0,!=2.25.0,<3.0.0,>=2.14.1->google-ai-generativelanguage<0.7.0,>=0.6.18->langchain-google-genai->educhain) (4.9.1)\n",
            "Requirement already satisfied: filelock in /usr/local/lib/python3.11/dist-packages (from huggingface-hub<1.0,>=0.16.4->tokenizers>=0.13.2->chromadb->educhain) (3.18.0)\n",
            "Requirement already satisfied: fsspec>=2023.5.0 in /usr/local/lib/python3.11/dist-packages (from huggingface-hub<1.0,>=0.16.4->tokenizers>=0.13.2->chromadb->educhain) (2025.3.0)\n",
            "Requirement already satisfied: hf-xet<2.0.0,>=1.1.3 in /usr/local/lib/python3.11/dist-packages (from huggingface-hub<1.0,>=0.16.4->tokenizers>=0.13.2->chromadb->educhain) (1.1.7)\n",
            "Requirement already satisfied: zipp>=0.5 in /usr/local/lib/python3.11/dist-packages (from importlib-metadata<=8.4.0,>=6.0->opentelemetry-api>=1.2.0->chromadb->educhain) (3.23.0)\n",
            "Requirement already satisfied: platformdirs>=2.5 in /usr/local/lib/python3.11/dist-packages (from jupyter-core>=4.7->nbconvert>=5->dataframe-image->educhain) (4.3.8)\n",
            "Requirement already satisfied: mdurl~=0.1 in /usr/local/lib/python3.11/dist-packages (from markdown-it-py>=2.2.0->rich>=10.11.0->chromadb->educhain) (0.1.2)\n",
            "Requirement already satisfied: jupyter-client>=6.1.12 in /usr/local/lib/python3.11/dist-packages (from nbclient>=0.5.0->nbconvert>=5->dataframe-image->educhain) (6.1.12)\n",
            "Requirement already satisfied: fastjsonschema>=2.15 in /usr/local/lib/python3.11/dist-packages (from nbformat>=5.7->nbconvert>=5->dataframe-image->educhain) (2.21.1)\n",
            "Requirement already satisfied: mypy-extensions>=0.3.0 in /usr/local/lib/python3.11/dist-packages (from typing-inspect<1,>=0.4.0->dataclasses-json<0.7,>=0.5.7->langchain-community->educhain) (1.1.0)\n",
            "Requirement already satisfied: humanfriendly>=9.1 in /usr/local/lib/python3.11/dist-packages (from coloredlogs->onnxruntime>=1.14.1->chromadb->educhain) (10.0)\n",
            "Requirement already satisfied: mpmath<1.4,>=1.1.0 in /usr/local/lib/python3.11/dist-packages (from sympy->onnxruntime>=1.14.1->chromadb->educhain) (1.3.0)\n",
            "Requirement already satisfied: pyzmq>=13 in /usr/local/lib/python3.11/dist-packages (from jupyter-client>=6.1.12->nbclient>=0.5.0->nbconvert>=5->dataframe-image->educhain) (26.2.1)\n",
            "Requirement already satisfied: tornado>=4.1 in /usr/local/lib/python3.11/dist-packages (from jupyter-client>=6.1.12->nbclient>=0.5.0->nbconvert>=5->dataframe-image->educhain) (6.4.2)\n",
            "Requirement already satisfied: pyasn1<0.7.0,>=0.6.1 in /usr/local/lib/python3.11/dist-packages (from pyasn1-modules>=0.2.1->google-auth!=2.24.0,!=2.25.0,<3.0.0,>=2.14.1->google-ai-generativelanguage<0.7.0,>=0.6.18->langchain-google-genai->educhain) (0.6.1)\n",
            "Downloading langchain_cerebras-0.5.0-py3-none-any.whl (7.8 kB)\n",
            "Installing collected packages: langchain-cerebras\n",
            "Successfully installed langchain-cerebras-0.5.0\n"
          ]
        }
      ]
    },
    {
      "cell_type": "markdown",
      "source": [
        "### **Imports**"
      ],
      "metadata": {
        "id": "ninaoq4wgKpO"
      }
    },
    {
      "cell_type": "code",
      "source": [
        "from google.colab import userdata\n",
        "import os\n",
        "from educhain import Educhain, LLMConfig\n",
        "from langchain_cerebras import ChatCerebras"
      ],
      "metadata": {
        "id": "EDZoxvHZdIe0"
      },
      "execution_count": 22,
      "outputs": []
    },
    {
      "cell_type": "markdown",
      "source": [
        "###**[Get Cerebras API Key](https://inference-docs.cerebras.ai/quickstart)**"
      ],
      "metadata": {
        "id": "hbxZfT-4dZOI"
      }
    },
    {
      "cell_type": "code",
      "source": [
        "os.environ[\"CEREBRAS_API_KEY\"] = userdata.get(\"CEREBRAS_API_KEY\")"
      ],
      "metadata": {
        "id": "fOj0j_6FdXO7"
      },
      "execution_count": null,
      "outputs": []
    },
    {
      "cell_type": "markdown",
      "source": [
        "### **Configure Cerebras**"
      ],
      "metadata": {
        "id": "i3eWHj4XeAEl"
      }
    },
    {
      "cell_type": "code",
      "source": [
        "llm = ChatCerebras(model=\"gpt-oss-120b\")\n"
      ],
      "metadata": {
        "id": "_Feg0Thmnqt4"
      },
      "execution_count": 31,
      "outputs": []
    },
    {
      "cell_type": "markdown",
      "source": [
        "### **SetUp Educhain**"
      ],
      "metadata": {
        "id": "oXvpywZyt61V"
      }
    },
    {
      "cell_type": "code",
      "source": [
        "cerebras_gpt_oss_config = LLMConfig(custom_model=llm)\n",
        "client = Educhain(cerebras_gpt_oss_config)"
      ],
      "metadata": {
        "id": "udv7WKbcq2nM"
      },
      "execution_count": 32,
      "outputs": []
    },
    {
      "cell_type": "markdown",
      "source": [
        "###**Create MCQs Just By Entering The Topic**"
      ],
      "metadata": {
        "id": "F0t3fAZHoh_H"
      }
    },
    {
      "cell_type": "code",
      "source": [
        "ques = client.qna_engine.generate_questions(topic=\"AI\",\n",
        "                                            num=5,\n",
        "                                            level=\"Easy\")\n",
        "ques.model_dump_json()   #you can Generate Dictionaries with this model_dump_json"
      ],
      "metadata": {
        "colab": {
          "base_uri": "https://localhost:8080/",
          "height": 140
        },
        "id": "BHbPzVp8od2g",
        "outputId": "b62f3de9-41f6-43a1-f584-458b8120d079"
      },
      "execution_count": 33,
      "outputs": [
        {
          "output_type": "execute_result",
          "data": {
            "text/plain": [
              "'{\"questions\":[{\"question\":\"What does the acronym AI stand for?\",\"answer\":\"Artificial Intelligence\",\"explanation\":\"AI is short for Artificial Intelligence, the field focused on creating machines that can perform tasks requiring human intelligence.\",\"options\":[\"Artificial Intelligence\",\"Automated Interface\",\"Advanced Integration\",\"Artificial Integration\"]},{\"question\":\"Which machine‑learning paradigm relies on labeled training data?\",\"answer\":\"Supervised learning\",\"explanation\":\"In supervised learning the model is trained on input–output pairs, allowing it to learn a mapping from features to labels.\",\"options\":[\"Supervised learning\",\"Unsupervised learning\",\"Reinforcement learning\",\"Self‑supervised learning\"]},{\"question\":\"The Turing Test is intended to evaluate a machine\\'s ability to:\",\"answer\":\"Exhibit intelligent behavior indistinguishable from a human\",\"explanation\":\"Proposed by Alan Turing, the test checks whether a machine\\'s responses are indistinguishable from those of a human interlocutor.\",\"options\":[\"Exhibit intelligent behavior indistinguishable from a human\",\"Compute arithmetic faster than a human\",\"Store more data than a human brain\",\"Operate without any power consumption\"]},{\"question\":\"In deep learning, what does the technique called \\\\\"dropout\\\\\" do?\",\"answer\":\"Randomly disables a subset of neurons during training to reduce overfitting\",\"explanation\":\"Dropout prevents co‑adaptation of neurons by temporarily removing them, which acts as a regularizer.\",\"options\":[\"Randomly disables a subset of neurons during training to reduce overfitting\",\"Adds noise to the input data as a preprocessing step\",\"Selects the highest‑probability output token during generation\",\"Optimizes the learning rate automatically\"]},{\"question\":\"Which of the following is a transformer‑based language model released by OpenAI in 2020?\",\"answer\":\"GPT‑3\",\"explanation\":\"GPT‑3 (Generative Pre‑trained Transformer\\u202f3) was released by OpenAI in 2020 and uses a massive transformer architecture.\",\"options\":[\"GPT-3\",\"BERT\",\"RoBERTa\",\"XLNet\"]}]}'"
            ],
            "application/vnd.google.colaboratory.intrinsic+json": {
              "type": "string"
            }
          },
          "metadata": {},
          "execution_count": 33
        }
      ]
    },
    {
      "cell_type": "code",
      "source": [
        "ques.show()"
      ],
      "metadata": {
        "colab": {
          "base_uri": "https://localhost:8080/"
        },
        "id": "EjAx2SkQonz2",
        "outputId": "1fb1e118-206e-4e43-dcff-8cd74bdfe59c"
      },
      "execution_count": 34,
      "outputs": [
        {
          "output_type": "stream",
          "name": "stdout",
          "text": [
            "Question 1:\n",
            "Question: What does the acronym AI stand for?\n",
            "Options:\n",
            "  A. Artificial Intelligence\n",
            "  B. Automated Interface\n",
            "  C. Advanced Integration\n",
            "  D. Artificial Integration\n",
            "\n",
            "Correct Answer: Artificial Intelligence\n",
            "Explanation: AI is short for Artificial Intelligence, the field focused on creating machines that can perform tasks requiring human intelligence.\n",
            "\n",
            "Question 2:\n",
            "Question: Which machine‑learning paradigm relies on labeled training data?\n",
            "Options:\n",
            "  A. Supervised learning\n",
            "  B. Unsupervised learning\n",
            "  C. Reinforcement learning\n",
            "  D. Self‑supervised learning\n",
            "\n",
            "Correct Answer: Supervised learning\n",
            "Explanation: In supervised learning the model is trained on input–output pairs, allowing it to learn a mapping from features to labels.\n",
            "\n",
            "Question 3:\n",
            "Question: The Turing Test is intended to evaluate a machine's ability to:\n",
            "Options:\n",
            "  A. Exhibit intelligent behavior indistinguishable from a human\n",
            "  B. Compute arithmetic faster than a human\n",
            "  C. Store more data than a human brain\n",
            "  D. Operate without any power consumption\n",
            "\n",
            "Correct Answer: Exhibit intelligent behavior indistinguishable from a human\n",
            "Explanation: Proposed by Alan Turing, the test checks whether a machine's responses are indistinguishable from those of a human interlocutor.\n",
            "\n",
            "Question 4:\n",
            "Question: In deep learning, what does the technique called \"dropout\" do?\n",
            "Options:\n",
            "  A. Randomly disables a subset of neurons during training to reduce overfitting\n",
            "  B. Adds noise to the input data as a preprocessing step\n",
            "  C. Selects the highest‑probability output token during generation\n",
            "  D. Optimizes the learning rate automatically\n",
            "\n",
            "Correct Answer: Randomly disables a subset of neurons during training to reduce overfitting\n",
            "Explanation: Dropout prevents co‑adaptation of neurons by temporarily removing them, which acts as a regularizer.\n",
            "\n",
            "Question 5:\n",
            "Question: Which of the following is a transformer‑based language model released by OpenAI in 2020?\n",
            "Options:\n",
            "  A. GPT-3\n",
            "  B. BERT\n",
            "  C. RoBERTa\n",
            "  D. XLNet\n",
            "\n",
            "Correct Answer: GPT‑3\n",
            "Explanation: GPT‑3 (Generative Pre‑trained Transformer 3) was released by OpenAI in 2020 and uses a massive transformer architecture.\n",
            "\n"
          ]
        }
      ]
    },
    {
      "cell_type": "markdown",
      "source": [
        "#### **You can also pass level, number of questions and custom instructions as an input**"
      ],
      "metadata": {
        "id": "f70o9SIJqdYy"
      }
    },
    {
      "cell_type": "code",
      "source": [
        "ques = client.qna_engine.generate_questions(topic=\"Quantum Computing\",\n",
        "                                            num=5,\n",
        "                                            level= \"Medium\",\n",
        "                                            custom_instructions=\"Focus on Latest Trends Of Quantum Computing\")\n",
        "ques.model_dump()  #you can Generate Dictionaries with this model_dump()"
      ],
      "metadata": {
        "colab": {
          "base_uri": "https://localhost:8080/"
        },
        "id": "FkkvblCrqZkb",
        "outputId": "2929e1ef-9a73-4dc7-dedd-c20847c553d5"
      },
      "execution_count": 35,
      "outputs": [
        {
          "output_type": "execute_result",
          "data": {
            "text/plain": [
              "{'questions': [{'question': 'Which metric did IBM introduce in 2022 to benchmark the overall capability of a quantum processor, combining qubit count, connectivity, and error rates?',\n",
              "   'answer': 'Quantum Volume',\n",
              "   'explanation': 'Quantum Volume (QV) is a single-number metric that captures the effective size of a quantum computer by accounting for qubit number, connectivity, gate fidelity, and circuit depth. IBM uses it to track progress of its processors.',\n",
              "   'options': ['Quantum Supremacy',\n",
              "    'Quantum Fidelity',\n",
              "    'Quantum Volume',\n",
              "    'Quantum Entanglement Rate']},\n",
              "  {'question': 'What recent breakthrough achieved by the University of Chicago in 2023 enables error detection on a logical qubit using the surface code?',\n",
              "   'answer': 'Demonstration of a distance‑3 surface code with repeated error‑corrected cycles',\n",
              "   'explanation': 'The team implemented a distance‑3 surface code on nine superconducting qubits and performed multiple rounds of error detection, marking a key step toward scalable fault‑tolerant quantum computing.',\n",
              "   'options': ['Demonstration of a distance‑3 surface code with repeated error‑corrected cycles',\n",
              "    'Implementation of a topological quantum computer with anyons',\n",
              "    'Realization of quantum teleportation over 1,000 kilometers',\n",
              "    'Creation of a room‑temperature qubit using diamond NV centers']},\n",
              "  {'question': 'Which company announced a photonic quantum processor with 16 qubits that operates at room temperature in 2024?',\n",
              "   'answer': 'PsiQuantum',\n",
              "   'explanation': None,\n",
              "   'options': ['IBM', 'Rigetti Computing', 'PsiQuantum', 'IonQ']},\n",
              "  {'question': 'In the context of hybrid quantum algorithms, what improvement to the Variational Quantum Eigensolver (VQE) was reported by researchers at Google AI in 2023?',\n",
              "   'answer': 'Use of adaptive ansätze that grow the circuit depth based on gradient information',\n",
              "   'explanation': 'The adaptive VQE (ADAPT‑VQE) adds gates iteratively where the gradient of the energy is largest, reducing the number of parameters needed while maintaining chemical accuracy.',\n",
              "   'options': ['Use of adaptive ansätze that grow the circuit depth based on gradient information',\n",
              "    'Replacement of quantum circuits with classical neural networks',\n",
              "    'Elimination of all two‑qubit gates',\n",
              "    'Embedding the algorithm within a quantum annealer']},\n",
              "  {'question': 'Which satellite‑based quantum communication demonstration, completed in 2023, established entanglement distribution over a distance exceeding 2,000\\u202fkm?',\n",
              "   'answer': 'China’s Micius satellite experiment',\n",
              "   'explanation': 'Micius performed quantum key distribution and entanglement swapping between ground stations separated by more than 2,000\\u202fkm, showcasing the feasibility of a global quantum internet.',\n",
              "   'options': ['Europe’s QUESS mission',\n",
              "    'China’s Micius satellite experiment',\n",
              "    'NASA’s Quantum Leap project',\n",
              "    'Japan’s QKD-1 satellite']}]}"
            ]
          },
          "metadata": {},
          "execution_count": 35
        }
      ]
    },
    {
      "cell_type": "code",
      "source": [
        "ques.show()"
      ],
      "metadata": {
        "colab": {
          "base_uri": "https://localhost:8080/"
        },
        "id": "LeGN52ILu8bA",
        "outputId": "a7458bf3-d44b-4942-f2e0-f35b6459ec87"
      },
      "execution_count": 36,
      "outputs": [
        {
          "output_type": "stream",
          "name": "stdout",
          "text": [
            "Question 1:\n",
            "Question: Which metric did IBM introduce in 2022 to benchmark the overall capability of a quantum processor, combining qubit count, connectivity, and error rates?\n",
            "Options:\n",
            "  A. Quantum Supremacy\n",
            "  B. Quantum Fidelity\n",
            "  C. Quantum Volume\n",
            "  D. Quantum Entanglement Rate\n",
            "\n",
            "Correct Answer: Quantum Volume\n",
            "Explanation: Quantum Volume (QV) is a single-number metric that captures the effective size of a quantum computer by accounting for qubit number, connectivity, gate fidelity, and circuit depth. IBM uses it to track progress of its processors.\n",
            "\n",
            "Question 2:\n",
            "Question: What recent breakthrough achieved by the University of Chicago in 2023 enables error detection on a logical qubit using the surface code?\n",
            "Options:\n",
            "  A. Demonstration of a distance‑3 surface code with repeated error‑corrected cycles\n",
            "  B. Implementation of a topological quantum computer with anyons\n",
            "  C. Realization of quantum teleportation over 1,000 kilometers\n",
            "  D. Creation of a room‑temperature qubit using diamond NV centers\n",
            "\n",
            "Correct Answer: Demonstration of a distance‑3 surface code with repeated error‑corrected cycles\n",
            "Explanation: The team implemented a distance‑3 surface code on nine superconducting qubits and performed multiple rounds of error detection, marking a key step toward scalable fault‑tolerant quantum computing.\n",
            "\n",
            "Question 3:\n",
            "Question: Which company announced a photonic quantum processor with 16 qubits that operates at room temperature in 2024?\n",
            "Options:\n",
            "  A. IBM\n",
            "  B. Rigetti Computing\n",
            "  C. PsiQuantum\n",
            "  D. IonQ\n",
            "\n",
            "Correct Answer: PsiQuantum\n",
            "\n",
            "Question 4:\n",
            "Question: In the context of hybrid quantum algorithms, what improvement to the Variational Quantum Eigensolver (VQE) was reported by researchers at Google AI in 2023?\n",
            "Options:\n",
            "  A. Use of adaptive ansätze that grow the circuit depth based on gradient information\n",
            "  B. Replacement of quantum circuits with classical neural networks\n",
            "  C. Elimination of all two‑qubit gates\n",
            "  D. Embedding the algorithm within a quantum annealer\n",
            "\n",
            "Correct Answer: Use of adaptive ansätze that grow the circuit depth based on gradient information\n",
            "Explanation: The adaptive VQE (ADAPT‑VQE) adds gates iteratively where the gradient of the energy is largest, reducing the number of parameters needed while maintaining chemical accuracy.\n",
            "\n",
            "Question 5:\n",
            "Question: Which satellite‑based quantum communication demonstration, completed in 2023, established entanglement distribution over a distance exceeding 2,000 km?\n",
            "Options:\n",
            "  A. Europe’s QUESS mission\n",
            "  B. China’s Micius satellite experiment\n",
            "  C. NASA’s Quantum Leap project\n",
            "  D. Japan’s QKD-1 satellite\n",
            "\n",
            "Correct Answer: China’s Micius satellite experiment\n",
            "Explanation: Micius performed quantum key distribution and entanglement swapping between ground stations separated by more than 2,000 km, showcasing the feasibility of a global quantum internet.\n",
            "\n"
          ]
        }
      ]
    },
    {
      "cell_type": "markdown",
      "source": [
        "###**Generate Questions Using Web URL**"
      ],
      "metadata": {
        "id": "1xP_WB7GvFWM"
      }
    },
    {
      "cell_type": "code",
      "source": [
        "url_list = client.qna_engine.generate_questions_from_data(\n",
        "    source=\"https://www.geeksforgeeks.org/operating-systems/last-minute-notes-operating-systems/\",\n",
        "    source_type=\"url\",\n",
        "    num=3,\n",
        "    question_type=\"Multiple Choice\",\n",
        "    difficulty_level=\"Intermediate\",\n",
        "    custom_instructions= \"Ask questions only about threads\"\n",
        "\n",
        ")\n",
        "\n",
        "url_list.show()"
      ],
      "metadata": {
        "colab": {
          "base_uri": "https://localhost:8080/"
        },
        "id": "z7DkPrLjvi3z",
        "outputId": "d448ae49-a83f-4667-9fc6-610e1da1f8cf"
      },
      "execution_count": 43,
      "outputs": [
        {
          "output_type": "stream",
          "name": "stdout",
          "text": [
            "Question 1:\n",
            "Question: In operating systems, a thread is best described as:\n",
            "Options:\n",
            "  A. A heavyweight process that has its own separate address space\n",
            "  B. A lightweight process that shares resources with other threads of the same process\n",
            "  C. A kernel module that runs independently of any process\n",
            "  D. An interrupt handler defined by the hardware\n",
            "\n",
            "Correct Answer: A lightweight process that shares resources with other threads of the same process\n",
            "Explanation: A thread has its own program counter, registers, and stack, but shares code, data, and open files with other threads of the same process, making it a lightweight process.\n",
            "\n",
            "Question 2:\n",
            "Question: Which POSIX library function is used to create a new thread in a Unix-like operating system?\n",
            "Options:\n",
            "  A. fork()\n",
            "  B. exec()\n",
            "  C. pthread_create()\n",
            "  D. spawn()\n",
            "\n",
            "Correct Answer: pthread_create()\n",
            "Explanation: The pthread_create() function creates a new thread that executes a specified start routine; it is the standard way to spawn threads in POSIX-compliant systems.\n",
            "\n",
            "Question 3:\n",
            "Question: Which statement about user‑level threads is FALSE?\n",
            "Options:\n",
            "  A. User‑level threads are managed by a thread library in user space\n",
            "  B. Each user‑level thread has its own registers and stack\n",
            "  C. User‑level threads are directly managed by the operating system kernel\n",
            "  D. Creating and switching user‑level threads is generally faster than kernel threads\n",
            "\n",
            "Correct Answer: User‑level threads are directly managed by the operating system kernel.\n",
            "Explanation: User‑level threads are managed by a user‑space thread library; the kernel sees only the single process that contains them. Therefore, the kernel does not directly manage these threads.\n",
            "\n"
          ]
        }
      ]
    },
    {
      "cell_type": "markdown",
      "source": [
        "###**Generate Flash Cards**"
      ],
      "metadata": {
        "id": "9U0wH3dZwxgq"
      }
    },
    {
      "cell_type": "code",
      "source": [
        "import json\n",
        "\n",
        "# Generate flashcards for a given topic\n",
        "def generate_AI_flashcards(topic: str):\n",
        "    content_engine = client.content_engine\n",
        "\n",
        "    flashcards = content_engine.generate_flashcards(\n",
        "        topic=topic,\n",
        "        num=5,  # Generate 5 flashcards\n",
        "        custom_instructions=\"\"\"\n",
        "        Create flashcards with:\n",
        "        1. High-yield AI facts\n",
        "        2. AI use cases\n",
        "        3. AI pros and cons\n",
        "        Include references to the latest research where relevant.\n",
        "        \"\"\"\n",
        "    )\n",
        "\n",
        "    # Print the flashcards\n",
        "    print(f\"Flashcards for {topic}:\\n\")\n",
        "    print(json.dumps(flashcards.dict(), indent=2))"
      ],
      "metadata": {
        "id": "vj5sKxgRvlNr"
      },
      "execution_count": 44,
      "outputs": []
    },
    {
      "cell_type": "markdown",
      "source": [
        "#### **Enter Your Topic**"
      ],
      "metadata": {
        "id": "vAYEHR-rxW5V"
      }
    },
    {
      "cell_type": "code",
      "source": [
        "generate_AI_flashcards(topic=\"AI in modern world\")"
      ],
      "metadata": {
        "colab": {
          "base_uri": "https://localhost:8080/"
        },
        "id": "4-a29qLTxTjN",
        "outputId": "c88cba5e-8b62-4d3a-eed5-e082fdb30759"
      },
      "execution_count": 45,
      "outputs": [
        {
          "output_type": "stream",
          "name": "stdout",
          "text": [
            "Flashcards for AI in modern world:\n",
            "\n",
            "{\n",
            "  \"title\": \"AI in the Modern World \\u2013 Flashcards\",\n",
            "  \"flashcards\": [\n",
            "    {\n",
            "      \"front\": \"What is Generative AI and which models exemplify it?\",\n",
            "      \"back\": \"Generative AI refers to systems that create new content\\u2014text, images, audio, or code\\u2014by learning patterns from large datasets. Key examples include large language models (e.g., GPT\\u20113, GPT\\u20114) and diffusion models for image synthesis (e.g., DALL\\u00b7E\\u202f2, Stable Diffusion).\",\n",
            "      \"explanation\": \"See Brown et al., *Language Models are Few-Shot Learners* (2020) for GPT\\u20113 and Ramesh et al., *Hierarchical Text-Conditional Image Generation with CLIP Latents* (2022) for DALL\\u00b7E\\u202f2. These models underpin many modern AI services.\"\n",
            "    },\n",
            "    {\n",
            "      \"front\": \"Name a high\\u2011impact AI use case in healthcare and its benefit.\",\n",
            "      \"back\": \"Early disease detection from medical imaging, where AI models achieve radiologist\\u2011level accuracy in identifying conditions such as breast cancer, lung nodules, and diabetic retinopathy.\",\n",
            "      \"explanation\": \"Esteva et al., *A deep learning system for detecting skin cancer* (Nature Medicine, 2023) demonstrated AI reaching 94% sensitivity, enabling faster, cheaper screening in underserved regions.\"\n",
            "    },\n",
            "    {\n",
            "      \"front\": \"What are two major advantages (pros) of deploying AI at scale?\",\n",
            "      \"back\": \"1) Scalability \\u2013 AI can process terabytes of data and serve millions of users simultaneously. 2) Personalization \\u2013 AI tailors content, recommendations, and interventions to individual preferences and needs.\",\n",
            "      \"explanation\": \"Zhou et al., *Personalized Learning with AI* (Computers & Education, 2024) shows AI\\u2011driven tutoring improving student outcomes by up to 27% compared to generic curricula.\"\n",
            "    },\n",
            "    {\n",
            "      \"front\": \"What are two key concerns (cons) regarding AI fairness and ethics?\",\n",
            "      \"back\": \"1) Bias \\u2013 Training data reflecting historical prejudices can cause discriminatory predictions (e.g., facial recognition errors on underrepresented groups). 2) Transparency \\u2013 Many AI models are \\u201cblack boxes,\\u201d making it hard to explain decisions to stakeholders.\",\n",
            "      \"explanation\": \"Buolamwini & Gebru, *Gender Shades* (2018) highlighted bias in facial analysis; a 2023 survey by Mitchell et al., *AI Fairness in Practice* (FAccT) reports that 68% of practitioners lack adequate tools for bias mitigation.\"\n",
            "    },\n",
            "    {\n",
            "      \"front\": \"What is the latest research trend of using foundation models as APIs, and why is it important?\",\n",
            "      \"back\": \"The trend is to expose large pre\\u2011trained foundation models (e.g., GPT\\u20114, Claude, LLaMA) via cloud APIs, allowing developers to integrate advanced capabilities without training their own models. This accelerates innovation, reduces compute costs, and democratizes access.\",\n",
            "      \"explanation\": \"Bommasani et al., *On the Opportunities and Risks of Foundation Models* (2021) outlined this shift; OpenAI\\u2019s 2024 API usage report shows a 45% YoY increase in deployments across industries, highlighting rapid adoption.\"\n",
            "    }\n",
            "  ]\n",
            "}\n"
          ]
        },
        {
          "output_type": "stream",
          "name": "stderr",
          "text": [
            "/tmp/ipython-input-2090952703.py:21: PydanticDeprecatedSince20: The `dict` method is deprecated; use `model_dump` instead. Deprecated in Pydantic V2.0 to be removed in V3.0. See Pydantic V2 Migration Guide at https://errors.pydantic.dev/2.11/migration/\n",
            "  print(json.dumps(flashcards.dict(), indent=2))\n"
          ]
        }
      ]
    }
  ]
}