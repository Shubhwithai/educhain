{
  "nbformat": 4,
  "nbformat_minor": 0,
  "metadata": {
    "colab": {
      "provenance": []
    },
    "kernelspec": {
      "name": "python3",
      "display_name": "Python 3"
    },
    "language_info": {
      "name": "python"
    }
  },
  "cells": [
    {
      "cell_type": "markdown",
      "source": [
        "<img src=\"https://github.com/Shubhwithai/GRE_Geometry_quiz/blob/main/Group%2042.png?raw=true\" width=\"\" height=\"50\">\n",
        "\n",
        "Educhain is a powerful Python package that leverages Generative AI to create\n",
        "engaging and personalized educational content. From generating multiple-choice questions to crafting comprehensive lesson plans, Educhain makes it easy to apply AI in various educational scenarios.\n",
        "\n",
        "[![Open In Colab](https://colab.research.google.com/assets/colab-badge.svg)](https://colab.research.google.com/drive/1-QX63g4Gdl1gXJUJTdJLu_y1SxlS3aTI?usp=sharing)\n",
        "\n",
        "\n"
      ],
      "metadata": {
        "id": "87RHDnvIp8FJ"
      }
    },
    {
      "cell_type": "markdown",
      "source": [
        "#**Getting Started With Educhain Pedagogy**"
      ],
      "metadata": {
        "id": "9T-eMJmWqH71"
      }
    },
    {
      "cell_type": "markdown",
      "source": [
        "###**Installations**"
      ],
      "metadata": {
        "id": "EMwfI0V6qD-E"
      }
    },
    {
      "cell_type": "code",
      "execution_count": null,
      "metadata": {
        "id": "ypXWfZN4pPVH"
      },
      "outputs": [],
      "source": [
        "!pip install educhain"
      ]
    },
    {
      "cell_type": "markdown",
      "source": [
        "###**Imports**"
      ],
      "metadata": {
        "id": "SX-zyzZ9OO-U"
      }
    },
    {
      "cell_type": "code",
      "source": [
        "from langchain_google_genai import ChatGoogleGenerativeAI\n",
        "from google.colab import userdata\n",
        "import os\n",
        "from educhain import Educhain , LLMConfig"
      ],
      "metadata": {
        "id": "4y6I81glN8wI"
      },
      "execution_count": 2,
      "outputs": []
    },
    {
      "cell_type": "markdown",
      "source": [
        "###**API Key Setup**"
      ],
      "metadata": {
        "id": "XkS3KqDIqzzy"
      }
    },
    {
      "cell_type": "code",
      "source": [
        "api_key = userdata.get('OPENAI_API_KEY')\n",
        "os.environ['OPENAI_API_KEY'] = api_key\n",
        "google_api_key = userdata.get('GOOGLE_API_KEY')\n",
        "os.environ['GOOGLE_API_KEY'] =google_api_key"
      ],
      "metadata": {
        "id": "c4f-N4tQqp9c"
      },
      "execution_count": 3,
      "outputs": []
    },
    {
      "cell_type": "markdown",
      "source": [
        "### **Usage With GPT-4o Model**"
      ],
      "metadata": {
        "id": "2vj4YyJKrABv"
      }
    },
    {
      "cell_type": "code",
      "source": [
        "custom_config = LLMConfig(model_name=\"gpt-4o\")\n",
        "\n",
        "# Initialize the Educhain client with the custom configuration\n",
        "client = Educhain(custom_config)\n"
      ],
      "metadata": {
        "id": "VDOre4Kxq_YN"
      },
      "execution_count": 4,
      "outputs": []
    },
    {
      "cell_type": "markdown",
      "source": [
        "### **SetUp With Gemini-2.5-Pro Model**"
      ],
      "metadata": {
        "id": "sVji-fqsMuXc"
      }
    },
    {
      "cell_type": "code",
      "source": [
        "gemini = ChatGoogleGenerativeAI(\n",
        "    model=\"gemini-2.5-flash\",\n",
        "    google_api_key=google_api_key\n",
        "  )\n",
        "\n",
        "config = LLMConfig(custom_model=gemini)\n",
        "gemini_client = Educhain(config)\n",
        "# Use  gemini_client.content_engine for using gemini"
      ],
      "metadata": {
        "id": "_4zODyurMWQK"
      },
      "execution_count": 7,
      "outputs": []
    },
    {
      "cell_type": "markdown",
      "source": [
        "# **Generate Educational Content Using Educhain-Pedagogy**\n",
        "\n",
        "**Args:**\n",
        "\n",
        "- **topic (str):** The subject or topic for the content\n",
        "- **pedagogy (str):** The pedagogical approach to use. Available options:\n",
        "    - *'blooms_taxonomy':* Bloom's Taxonomy cognitive levels\n",
        "    - *'socratic_questioning':* Socratic questioning method\n",
        "    - *'project_based_learning':* Project-based learning\n",
        "    - *'flipped_classroom':* Flipped classroom approach\n",
        "    - *'inquiry_based_learning':* Inquiry-based learning\n",
        "    - *'constructivist':* Constructivist learning\n",
        "    - *'gamification':* Gamified learning\n",
        "    - *'peer_learning':* Peer learning activities\n",
        "- **custom_instructions (str, optional):** Additional instructions for content generation\n",
        "- **kwargs:** Pedagogy-specific parameters (see documentation for each pedagogy)\n",
        "\n",
        "**Returns:**\n",
        "Content object based on the selected pedagogy\n",
        "\n"
      ],
      "metadata": {
        "id": "lk-qkuAMrQSK"
      }
    },
    {
      "cell_type": "markdown",
      "source": [
        "###**Blooms Taxonomy**\n",
        "\n",
        "**Explanation:**\n",
        "This approach structures learning tasks by cognitive levels: Remember, Understand, Apply, Analyze, Evaluate, and Create.\n",
        "\n",
        "**Params:**\n",
        "\n",
        "\n",
        "- `topic (str)`: The subject chosen\n",
        "- `pedagogy`: \"blooms_taxonomy\"\n",
        "- `target_level` (str): Cognitive level to focus on (default: \"All levels\")\n",
        "- `grade_level` (str): Target grade level (default: \"General\")\n",
        "- `custom instructions (str, optional)`\n",
        "\n",
        "**Output Structure:**\n",
        "\n",
        "Content for each cognitive level with explanations, key concepts, objectives, activities, assessment questions, and real-world examples.\n",
        "\n",
        "\n"
      ],
      "metadata": {
        "id": "Fzf4Df4ssGZo"
      }
    },
    {
      "cell_type": "code",
      "source": [
        "result = gemini_client.content_engine.generate_pedagogy_content(\n",
        "    topic=\"Data Science Fundamentals\",\n",
        "    pedagogy=\"blooms_taxonomy\",\n",
        "    target_level=\"All levels\",\n",
        "    grade_level=\"University\",\n",
        "    custom_instructions=\"Include Python programming and statistical concepts\"\n",
        ")\n",
        "result.show()"
      ],
      "metadata": {
        "id": "WQvtbEBprpQc"
      },
      "execution_count": null,
      "outputs": []
    },
    {
      "cell_type": "markdown",
      "source": [
        "### **Socratic Questioning**"
      ],
      "metadata": {
        "id": "SnU3QtaAsVyD"
      }
    },
    {
      "cell_type": "markdown",
      "source": [
        "\n",
        "**Description:**\n",
        "Guides learning through strategic questioning to promote critical thinking and self-discovery.\n",
        "\n",
        "**Parameters:**\n",
        "- `topic`\n",
        "- `pedagogy`: \"socratic_questioning\"\n",
        "- `depth_level` (str): Depth of inquiry (default: \"Intermediate\")\n",
        "- `student_level` (str): Student level group (default: \"High School\")\n",
        "- `custom_instructions` (str, optional)\n",
        "\n",
        "**Output:**\n",
        "Questions and content for each question type (foundational, analytical, perspective, implication, metacognitive), model responses, and reflection prompts.\n"
      ],
      "metadata": {
        "id": "FUAmH1bcsSl3"
      }
    },
    {
      "cell_type": "code",
      "source": [
        "critical_thinking = client.content_engine.generate_pedagogy_content(\n",
        "    topic=\"Climate Change Solutions\",\n",
        "    pedagogy=\"socratic_questioning\",\n",
        "    depth_level=\"Intermediate\",\n",
        "    student_level=\"High School\",\n",
        "    custom_instructions=\"Encourage analysis of multiple perspectives and evidence\"\n",
        ")\n",
        "critical_thinking.show()"
      ],
      "metadata": {
        "id": "yh8C8LAGudbF"
      },
      "execution_count": null,
      "outputs": []
    },
    {
      "cell_type": "markdown",
      "source": [
        "###**Project Based Learning**"
      ],
      "metadata": {
        "id": "Lz5QsHhAL28n"
      }
    },
    {
      "cell_type": "markdown",
      "source": [
        "**Description:**\n",
        "Engages learners in complex, real-world projects to develop deep understanding and practical skills.\n",
        "\n",
        "**Parameters:**\n",
        "\n",
        "- `project_duration` (str): Duration (default: \"4-6 weeks\")\n",
        "- `team_size` (str/int): Team size (default: \"3-4 students\")\n",
        "- `industry_focus` (str): Industry focus (default: \"General\")\n",
        "- `custom_instructions` (str, optional)\n",
        "\n",
        "**Output:**\n",
        "Project goals, driving question, learning objectives, step-wise phases with resources and activities, deliverables, and real-world connections."
      ],
      "metadata": {
        "id": "Nnnhr53yKZ5m"
      }
    },
    {
      "cell_type": "code",
      "source": [
        "# Arts and creative fields\n",
        "creative_project = gemini_client.content_engine.generate_pedagogy_content(\n",
        "    topic=\"Documentary Filmmaking\",\n",
        "    pedagogy=\"project_based_learning\",\n",
        "    team_size= \"2-3 students\",\n",
        "    project_duration=\"2 weeks\",\n",
        "    industry_focus=\"Media Production\",\n",
        "    custom_instructions=\"Focus on social justice themes and community impact\"\n",
        ")\n",
        "creative_project.show()"
      ],
      "metadata": {
        "id": "cbIx3WbNKfya"
      },
      "execution_count": null,
      "outputs": []
    },
    {
      "cell_type": "markdown",
      "source": [
        "### **Flipped Classroom**"
      ],
      "metadata": {
        "id": "BhE22m-VLq7S"
      }
    },
    {
      "cell_type": "markdown",
      "source": [
        "**Description:**\n",
        "Core content is learned at home; class time is for active, collaborative tasks.\n",
        "\n",
        "**Parameters:**\n",
        "\n",
        "- `class_duration` (str): Class length (default: \"50 minutes\")\n",
        "- `prep_time` (str): Prep time needed (default: \"30-45 minutes\")\n",
        "- `technology_level` (str): Tech capacity required (default: \"Moderate\")\n",
        "- `custom_instructions` (str, optional)\n",
        "\n",
        "**Output:**\n",
        "Pre-class study material, in-class activity plans, post-class reinforcement tasks, and all necessary resources.\n"
      ],
      "metadata": {
        "id": "_SKlv4MCNo3Z"
      }
    },
    {
      "cell_type": "code",
      "source": [
        "coding_flipped = gemini_client.content_engine.generate_pedagogy_content(\n",
        "    topic=\"Machine Learning Algorithms\",\n",
        "    pedagogy=\"flipped_classroom\",\n",
        "    class_duration=\"40 minutes\",\n",
        "    technology_level= \"Low\",\n",
        "    prep_time=\"30 minutes\",\n",
        "    custom_instructions=\"Include coding exercises and peer programming\"\n",
        ")\n",
        "coding_flipped.show()"
      ],
      "metadata": {
        "id": "EOfxzTbnKyfx"
      },
      "execution_count": null,
      "outputs": []
    },
    {
      "cell_type": "markdown",
      "source": [
        "###**Inquiry Based Learning**"
      ],
      "metadata": {
        "id": "3LZpp5EvLhYR"
      }
    },
    {
      "cell_type": "markdown",
      "source": [
        "**Description:**\n",
        "Encourages learners to investigate by posing questions and building understanding through exploration.\n",
        "\n",
        "**Parameters:**\n",
        "\n",
        "- `inquiry_type` (str): Guided/Open (default: \"Guided\")\n",
        "- `investigation_scope` (str): Breadth/depth of inquiry (default: \"Moderate\")\n",
        "- `student_autonomy` (str): How much independence (default: \"Balanced\")\n",
        "- `custom_instructions` (str, optional)\n",
        "\n",
        "**Output:**\n",
        "Essential questions, stepwise inquiry process/activity breakdown, research methods, scaffolds, presentation formats, reflection."
      ],
      "metadata": {
        "id": "HXzZDg4bOsvW"
      }
    },
    {
      "cell_type": "code",
      "source": [
        "# Historical investigation\n",
        "history_inquiry = gemini_client.content_engine.generate_pedagogy_content(\n",
        "    topic=\"Impact of Social Media on Democracy\",\n",
        "    pedagogy=\"inquiry_based_learning\",\n",
        "    inquiry_type=\"Guided\",\n",
        "    investigation_scope = \"Moderate\",\n",
        "    student_autonomy = \"Balanced\",\n",
        "    custom_instructions=\"Use primary sources and contemporary case studies\"\n",
        ")\n",
        "history_inquiry.show()"
      ],
      "metadata": {
        "id": "egwjKmHUK3gj"
      },
      "execution_count": null,
      "outputs": []
    },
    {
      "cell_type": "markdown",
      "source": [
        "###**Constructivist**"
      ],
      "metadata": {
        "id": "EQRIk9HmMEDf"
      }
    },
    {
      "cell_type": "markdown",
      "source": [
        "**Description:**\n",
        "Students build knowledge actively through experience, reflection, and interaction.\n",
        "\n",
        "**Parameters:**\n",
        "\n",
        "- `prior_knowledge_level` (str): Learners' starting point (default: \"Mixed\")\n",
        "- `social_interaction_focus` (str): Group/peer focus (default: \"High\")\n",
        "- `reflection_emphasis` (str): Level of reflection (default: \"Strong\")\n",
        "- `custom_instructions` (str, optional)\n",
        "\n",
        "**Output:**\n",
        "Activities to activate prior knowledge, experiential learning scenarios, reflection tools, collaborative protocols, authentic assessments.\n"
      ],
      "metadata": {
        "id": "v47oXgVHO-Yo"
      }
    },
    {
      "cell_type": "code",
      "source": [
        "# Mathematics education\n",
        "math_constructivist = client.content_engine.generate_pedagogy_content(\n",
        "    topic=\"Statistical Analysis\",\n",
        "    pedagogy=\"constructivist\",\n",
        "    prior_knowledge_level=\"Mixed\",\n",
        "    social_interaction_focus= \"Moderate\",\n",
        "    reflection_emphasis=\"Weak\",\n",
        "    custom_instructions=\"Use real datasets and collaborative problem-solving\"\n",
        ")\n",
        "math_constructivist.show()"
      ],
      "metadata": {
        "id": "1bif0fdFMCnu"
      },
      "execution_count": null,
      "outputs": []
    },
    {
      "cell_type": "markdown",
      "source": [
        "###**Gamification**"
      ],
      "metadata": {
        "id": "Lw6JAfZsLYUV"
      }
    },
    {
      "cell_type": "markdown",
      "source": [
        "**Description:**\n",
        "Uses game elements like points, badges, or levels to drive motivation and engagement.\n",
        "\n",
        "**Parameters:**\n",
        "\n",
        "- `game_mechanics` (str): Main mechanics used (default: \"Points, badges, levels\")\n",
        "- `competition_level` (str): Level of competition (default: \"Moderate\")\n",
        "- `technology_platform` (str): Delivery mode (default: \"Web-based\")\n",
        "- `custom_instructions` (str, optional)\n",
        "\n",
        "**Output:**\n",
        "Lesson or activity outline with gamification structure, progression systems, rewards, and feedback."
      ],
      "metadata": {
        "id": "UxAN1HttQlCV"
      }
    },
    {
      "cell_type": "code",
      "source": [
        "# Language learning platform\n",
        "language_game = gemini_client.content_engine.generate_pedagogy_content(\n",
        "    topic=\"Japanese Language Fundamentals\",\n",
        "    pedagogy=\"gamification\",\n",
        "    game_mechanics=\"Points, streaks, badges, social challenges\",\n",
        "    competition_level=\"Low\",\n",
        "    technology_platform=\"Mobile App\",\n",
        "    custom_instructions=\"Include cultural context and conversation practice\"\n",
        ")\n",
        "language_game.show()"
      ],
      "metadata": {
        "id": "4s0YSX-ALCHo"
      },
      "execution_count": null,
      "outputs": []
    },
    {
      "cell_type": "markdown",
      "source": [
        "##**Peer Learning**"
      ],
      "metadata": {
        "id": "sUnFIRUaLL8w"
      }
    },
    {
      "cell_type": "markdown",
      "source": [
        "**Description:**\n",
        "Enables collaborative, structured learning with and from peers.\n",
        "\n",
        "**Parameters:**\n",
        "\n",
        "- `group_size` (str/int): Number of learners per group (default: \"3-4 students\")\n",
        "- `collaboration_type` (str): Structure of group work (default: \"Mixed\")\n",
        "- `skill_diversity` (str): Diversity of skills/abilities (default: \"Moderate\")\n",
        "- `custom_instructions` (str, optional)\n",
        "\n",
        "**Output:**\n",
        "Group activity roadmap, roles, peer review systems, reflective prompts, progress/accountability measures."
      ],
      "metadata": {
        "id": "gf4VFnsOQvMz"
      }
    },
    {
      "cell_type": "code",
      "source": [
        "# Literature and humanities\n",
        "literature_peer = gemini_client.content_engine.generate_pedagogy_content(\n",
        "    topic=\"Contemporary World Literature\",\n",
        "    pedagogy=\"peer_learning\",\n",
        "    group_size=\"2-3 students\",\n",
        "    collaboration_type=\"Book clubs and discussion circles\",\n",
        "    skill_diversity=\"High\",\n",
        "    custom_instructions=\"Include cross-cultural perspectives and author research\"\n",
        ")\n",
        "literature_peer.show()"
      ],
      "metadata": {
        "id": "yMpGy5-SLKai"
      },
      "execution_count": null,
      "outputs": []
    }
  ]
}